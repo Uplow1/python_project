{
 "cells": [
  {
   "cell_type": "code",
   "execution_count": 1,
   "id": "d89768ac",
   "metadata": {},
   "outputs": [
    {
     "ename": "ValueError",
     "evalue": "invalid literal for int() with base 10: ''",
     "output_type": "error",
     "traceback": [
      "\u001b[1;31m---------------------------------------------------------------------------\u001b[0m",
      "\u001b[1;31mValueError\u001b[0m                                Traceback (most recent call last)",
      "Cell \u001b[1;32mIn[1], line 23\u001b[0m\n\u001b[0;32m     21\u001b[0m             \u001b[39mbreak\u001b[39;00m\n\u001b[0;32m     22\u001b[0m     \u001b[39mreturn\u001b[39;00m students\n\u001b[1;32m---> 23\u001b[0m student_data \u001b[39m=\u001b[39m store_data()\n\u001b[0;32m     24\u001b[0m \u001b[39mprint\u001b[39m(\u001b[39m\"\u001b[39m\u001b[39mStudent Data:\u001b[39m\u001b[39m\"\u001b[39m)\n\u001b[0;32m     25\u001b[0m \u001b[39mprint\u001b[39m(student_data)\n",
      "Cell \u001b[1;32mIn[1], line 5\u001b[0m, in \u001b[0;36mstore_data\u001b[1;34m()\u001b[0m\n\u001b[0;32m      3\u001b[0m \u001b[39mwhile\u001b[39;00m \u001b[39mTrue\u001b[39;00m:\n\u001b[0;32m      4\u001b[0m     name \u001b[39m=\u001b[39m \u001b[39minput\u001b[39m(\u001b[39m\"\u001b[39m\u001b[39mEnter Name: \u001b[39m\u001b[39m\"\u001b[39m)\n\u001b[1;32m----> 5\u001b[0m     roll \u001b[39m=\u001b[39m \u001b[39mint\u001b[39;49m(\u001b[39minput\u001b[39;49m(\u001b[39m\"\u001b[39;49m\u001b[39mEnter Roll No: \u001b[39;49m\u001b[39m\"\u001b[39;49m))\n\u001b[0;32m      6\u001b[0m     age \u001b[39m=\u001b[39m \u001b[39mint\u001b[39m(\u001b[39minput\u001b[39m(\u001b[39m\"\u001b[39m\u001b[39mEnter Age: \u001b[39m\u001b[39m\"\u001b[39m))\n\u001b[0;32m      7\u001b[0m     grade \u001b[39m=\u001b[39m \u001b[39minput\u001b[39m(\u001b[39m\"\u001b[39m\u001b[39mEnter Grade: \u001b[39m\u001b[39m\"\u001b[39m)\n",
      "\u001b[1;31mValueError\u001b[0m: invalid literal for int() with base 10: ''"
     ]
    }
   ],
   "source": [
    "def store_data():\n",
    "    students = []\n",
    "    while True:\n",
    "        name = input(\"Enter Name: \")\n",
    "        roll = int(input(\"Enter Roll No: \"))\n",
    "        age = int(input(\"Enter Age: \"))\n",
    "        grade = input(\"Enter Grade: \")\n",
    "        student = {\n",
    "            \"roll_number\": roll,\n",
    "            \"name\": name,\n",
    "            \"age\": age,\n",
    "            \"grade\": grade\n",
    "        }\n",
    "        students.append(student)\n",
    "        add = input(\"Do you want to add more students? (yes/no): \")\n",
    "        if add == \"no\":\n",
    "            break\n",
    "        elif add==\"yes\":\n",
    "            continue\n",
    "        else:\n",
    "            break\n",
    "    return students\n",
    "student_data = store_data()\n",
    "print(\"Student Data:\")\n",
    "print(student_data)\n",
    "print(\"------------------------------------------------------------------------------\")\n",
    "def search_and_display(data, search_value):\n",
    "    result = [item for item in data if item[\"roll_number\"] == search_value]\n",
    "    if result:\n",
    "        print(\"Search Results:\")\n",
    "        for student in result:\n",
    "            print(f\"Name: {student['name']}, Roll No: {student['roll_number']}, Age: {student['age']}, Grade: {student['grade']}\")\n",
    "    else:\n",
    "        print(\"No students found\")\n",
    "print(\"------------------------------------------------------------------------------\")\n",
    "\n",
    "def delete_from_list(lst, value):\n",
    "    removed = []\n",
    "    for student in lst:\n",
    "        if student[\"name\"] == value:\n",
    "            removed.append(student)\n",
    "    for student in removed:\n",
    "        lst.remove(student)\n",
    "    if removed:\n",
    "        print(f\"Student(s) with name '{value}' removed from the list.\")\n",
    "    else:\n",
    "        print(f\"No students found with the name '{value}' in the list.\")\n",
    "print(\"Which function do you want to use?\")\n",
    "print(\"1. Search and display\")\n",
    "print(\"2. Delete from list\")\n",
    "choice = int(input(\"Enter your choice (1 or 2): \"))\n",
    "if choice == 1:\n",
    "    search_value = int(input(\"Enter the roll number to search: \"))\n",
    "    search_and_display(student_data, search_value)\n",
    "elif choice == 2:\n",
    "    \n",
    "    student_name = input(\"Enter the name of the student to remove: \")\n",
    "    delete_from_list(student_data, student_name)\n",
    "    print(\"Modified List:\", student_data)\n",
    "else:\n",
    "    print(\"Invalid choice. Exiting.\")\n"
   ]
  },
  {
   "cell_type": "code",
   "execution_count": null,
   "id": "36cf4088",
   "metadata": {},
   "outputs": [],
   "source": []
  }
 ],
 "metadata": {
  "kernelspec": {
   "display_name": "Python 3 (ipykernel)",
   "language": "python",
   "name": "python3"
  },
  "language_info": {
   "codemirror_mode": {
    "name": "ipython",
    "version": 3
   },
   "file_extension": ".py",
   "mimetype": "text/x-python",
   "name": "python",
   "nbconvert_exporter": "python",
   "pygments_lexer": "ipython3",
   "version": "3.11.3"
  }
 },
 "nbformat": 4,
 "nbformat_minor": 5
}
